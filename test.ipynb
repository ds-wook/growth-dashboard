{
 "cells": [
  {
   "cell_type": "code",
   "execution_count": 1,
   "id": "3374eb61",
   "metadata": {},
   "outputs": [],
   "source": [
    "import pyuba as uba\n",
    "import pandas as pd\n",
    "import numpy as np"
   ]
  },
  {
   "cell_type": "code",
   "execution_count": 2,
   "id": "0d9b21ca",
   "metadata": {
    "scrolled": false
   },
   "outputs": [
    {
     "data": {
      "text/html": [
       "<div>\n",
       "<style scoped>\n",
       "    .dataframe tbody tr th:only-of-type {\n",
       "        vertical-align: middle;\n",
       "    }\n",
       "\n",
       "    .dataframe tbody tr th {\n",
       "        vertical-align: top;\n",
       "    }\n",
       "\n",
       "    .dataframe thead th {\n",
       "        text-align: right;\n",
       "    }\n",
       "</style>\n",
       "<table border=\"1\" class=\"dataframe\">\n",
       "  <thead>\n",
       "    <tr style=\"text-align: right;\">\n",
       "      <th></th>\n",
       "      <th>payment_id</th>\n",
       "      <th>item</th>\n",
       "      <th>payment</th>\n",
       "      <th>buy_date</th>\n",
       "      <th>user_id</th>\n",
       "    </tr>\n",
       "  </thead>\n",
       "  <tbody>\n",
       "    <tr>\n",
       "      <th>0</th>\n",
       "      <td>1</td>\n",
       "      <td>아이템E</td>\n",
       "      <td>20000</td>\n",
       "      <td>2019-12-01</td>\n",
       "      <td>70</td>\n",
       "    </tr>\n",
       "    <tr>\n",
       "      <th>1</th>\n",
       "      <td>2</td>\n",
       "      <td>아이템B</td>\n",
       "      <td>5000</td>\n",
       "      <td>2019-12-01</td>\n",
       "      <td>1153</td>\n",
       "    </tr>\n",
       "    <tr>\n",
       "      <th>2</th>\n",
       "      <td>3</td>\n",
       "      <td>아이템A</td>\n",
       "      <td>3000</td>\n",
       "      <td>2019-12-01</td>\n",
       "      <td>1210</td>\n",
       "    </tr>\n",
       "    <tr>\n",
       "      <th>3</th>\n",
       "      <td>4</td>\n",
       "      <td>아이템A</td>\n",
       "      <td>3000</td>\n",
       "      <td>2019-12-01</td>\n",
       "      <td>1242</td>\n",
       "    </tr>\n",
       "    <tr>\n",
       "      <th>4</th>\n",
       "      <td>5</td>\n",
       "      <td>아이템E</td>\n",
       "      <td>20000</td>\n",
       "      <td>2019-12-01</td>\n",
       "      <td>975</td>\n",
       "    </tr>\n",
       "  </tbody>\n",
       "</table>\n",
       "</div>"
      ],
      "text/plain": [
       "   payment_id  item  payment   buy_date  user_id\n",
       "0           1  아이템E    20000 2019-12-01       70\n",
       "1           2  아이템B     5000 2019-12-01     1153\n",
       "2           3  아이템A     3000 2019-12-01     1210\n",
       "3           4  아이템A     3000 2019-12-01     1242\n",
       "4           5  아이템E    20000 2019-12-01      975"
      ]
     },
     "execution_count": 2,
     "metadata": {},
     "output_type": "execute_result"
    }
   ],
   "source": [
    "payment = pd.read_excel(\"input/data1.xlsx\", sheet_name=\"payment\")\n",
    "payment.head()"
   ]
  },
  {
   "cell_type": "code",
   "execution_count": 3,
   "id": "941ad523",
   "metadata": {},
   "outputs": [
    {
     "data": {
      "text/html": [
       "<div>\n",
       "<style scoped>\n",
       "    .dataframe tbody tr th:only-of-type {\n",
       "        vertical-align: middle;\n",
       "    }\n",
       "\n",
       "    .dataframe tbody tr th {\n",
       "        vertical-align: top;\n",
       "    }\n",
       "\n",
       "    .dataframe thead th {\n",
       "        text-align: right;\n",
       "    }\n",
       "</style>\n",
       "<table border=\"1\" class=\"dataframe\">\n",
       "  <thead>\n",
       "    <tr style=\"text-align: right;\">\n",
       "      <th></th>\n",
       "      <th>user_id</th>\n",
       "      <th>sign_up</th>\n",
       "      <th>last_login</th>\n",
       "    </tr>\n",
       "  </thead>\n",
       "  <tbody>\n",
       "    <tr>\n",
       "      <th>0</th>\n",
       "      <td>1</td>\n",
       "      <td>2019-01-01</td>\n",
       "      <td>2019-06-03</td>\n",
       "    </tr>\n",
       "    <tr>\n",
       "      <th>1</th>\n",
       "      <td>2</td>\n",
       "      <td>2019-01-01</td>\n",
       "      <td>2019-11-02</td>\n",
       "    </tr>\n",
       "    <tr>\n",
       "      <th>2</th>\n",
       "      <td>3</td>\n",
       "      <td>2019-01-01</td>\n",
       "      <td>2019-01-23</td>\n",
       "    </tr>\n",
       "    <tr>\n",
       "      <th>3</th>\n",
       "      <td>4</td>\n",
       "      <td>2019-01-01</td>\n",
       "      <td>2019-04-19</td>\n",
       "    </tr>\n",
       "    <tr>\n",
       "      <th>4</th>\n",
       "      <td>5</td>\n",
       "      <td>2019-01-01</td>\n",
       "      <td>2019-06-25</td>\n",
       "    </tr>\n",
       "    <tr>\n",
       "      <th>...</th>\n",
       "      <td>...</td>\n",
       "      <td>...</td>\n",
       "      <td>...</td>\n",
       "    </tr>\n",
       "    <tr>\n",
       "      <th>10466</th>\n",
       "      <td>10467</td>\n",
       "      <td>2019-12-31</td>\n",
       "      <td>2019-12-31</td>\n",
       "    </tr>\n",
       "    <tr>\n",
       "      <th>10467</th>\n",
       "      <td>10468</td>\n",
       "      <td>2019-12-31</td>\n",
       "      <td>2019-12-31</td>\n",
       "    </tr>\n",
       "    <tr>\n",
       "      <th>10468</th>\n",
       "      <td>10469</td>\n",
       "      <td>2019-12-31</td>\n",
       "      <td>2019-12-31</td>\n",
       "    </tr>\n",
       "    <tr>\n",
       "      <th>10469</th>\n",
       "      <td>10470</td>\n",
       "      <td>2019-12-31</td>\n",
       "      <td>2019-12-31</td>\n",
       "    </tr>\n",
       "    <tr>\n",
       "      <th>10470</th>\n",
       "      <td>10471</td>\n",
       "      <td>2019-12-31</td>\n",
       "      <td>2019-12-31</td>\n",
       "    </tr>\n",
       "  </tbody>\n",
       "</table>\n",
       "<p>10471 rows × 3 columns</p>\n",
       "</div>"
      ],
      "text/plain": [
       "       user_id    sign_up last_login\n",
       "0            1 2019-01-01 2019-06-03\n",
       "1            2 2019-01-01 2019-11-02\n",
       "2            3 2019-01-01 2019-01-23\n",
       "3            4 2019-01-01 2019-04-19\n",
       "4            5 2019-01-01 2019-06-25\n",
       "...        ...        ...        ...\n",
       "10466    10467 2019-12-31 2019-12-31\n",
       "10467    10468 2019-12-31 2019-12-31\n",
       "10468    10469 2019-12-31 2019-12-31\n",
       "10469    10470 2019-12-31 2019-12-31\n",
       "10470    10471 2019-12-31 2019-12-31\n",
       "\n",
       "[10471 rows x 3 columns]"
      ]
     },
     "execution_count": 3,
     "metadata": {},
     "output_type": "execute_result"
    }
   ],
   "source": [
    "sign_up = pd.read_excel(\"input/data1.xlsx\", sheet_name=\"signup\")\n",
    "sign_up"
   ]
  },
  {
   "cell_type": "code",
   "execution_count": 4,
   "id": "76126074",
   "metadata": {},
   "outputs": [
    {
     "data": {
      "text/html": [
       "<div>\n",
       "<style scoped>\n",
       "    .dataframe tbody tr th:only-of-type {\n",
       "        vertical-align: middle;\n",
       "    }\n",
       "\n",
       "    .dataframe tbody tr th {\n",
       "        vertical-align: top;\n",
       "    }\n",
       "\n",
       "    .dataframe thead th {\n",
       "        text-align: right;\n",
       "    }\n",
       "</style>\n",
       "<table border=\"1\" class=\"dataframe\">\n",
       "  <thead>\n",
       "    <tr style=\"text-align: right;\">\n",
       "      <th></th>\n",
       "      <th>payment_id</th>\n",
       "      <th>item</th>\n",
       "      <th>payment</th>\n",
       "      <th>buy_date</th>\n",
       "      <th>user_id</th>\n",
       "    </tr>\n",
       "  </thead>\n",
       "  <tbody>\n",
       "    <tr>\n",
       "      <th>0</th>\n",
       "      <td>1</td>\n",
       "      <td>아이템E</td>\n",
       "      <td>20000</td>\n",
       "      <td>2019-12-01</td>\n",
       "      <td>70</td>\n",
       "    </tr>\n",
       "    <tr>\n",
       "      <th>1</th>\n",
       "      <td>2</td>\n",
       "      <td>아이템B</td>\n",
       "      <td>5000</td>\n",
       "      <td>2019-12-01</td>\n",
       "      <td>1153</td>\n",
       "    </tr>\n",
       "    <tr>\n",
       "      <th>2</th>\n",
       "      <td>3</td>\n",
       "      <td>아이템A</td>\n",
       "      <td>3000</td>\n",
       "      <td>2019-12-01</td>\n",
       "      <td>1210</td>\n",
       "    </tr>\n",
       "    <tr>\n",
       "      <th>3</th>\n",
       "      <td>4</td>\n",
       "      <td>아이템A</td>\n",
       "      <td>3000</td>\n",
       "      <td>2019-12-01</td>\n",
       "      <td>1242</td>\n",
       "    </tr>\n",
       "    <tr>\n",
       "      <th>4</th>\n",
       "      <td>5</td>\n",
       "      <td>아이템E</td>\n",
       "      <td>20000</td>\n",
       "      <td>2019-12-01</td>\n",
       "      <td>975</td>\n",
       "    </tr>\n",
       "    <tr>\n",
       "      <th>...</th>\n",
       "      <td>...</td>\n",
       "      <td>...</td>\n",
       "      <td>...</td>\n",
       "      <td>...</td>\n",
       "      <td>...</td>\n",
       "    </tr>\n",
       "    <tr>\n",
       "      <th>1649</th>\n",
       "      <td>1650</td>\n",
       "      <td>아이템A</td>\n",
       "      <td>3000</td>\n",
       "      <td>2019-12-31</td>\n",
       "      <td>7474</td>\n",
       "    </tr>\n",
       "    <tr>\n",
       "      <th>1650</th>\n",
       "      <td>1651</td>\n",
       "      <td>아이템B</td>\n",
       "      <td>5000</td>\n",
       "      <td>2019-12-31</td>\n",
       "      <td>7502</td>\n",
       "    </tr>\n",
       "    <tr>\n",
       "      <th>1651</th>\n",
       "      <td>1652</td>\n",
       "      <td>아이템E</td>\n",
       "      <td>20000</td>\n",
       "      <td>2019-12-31</td>\n",
       "      <td>7474</td>\n",
       "    </tr>\n",
       "    <tr>\n",
       "      <th>1652</th>\n",
       "      <td>1653</td>\n",
       "      <td>아이템E</td>\n",
       "      <td>20000</td>\n",
       "      <td>2019-12-31</td>\n",
       "      <td>5414</td>\n",
       "    </tr>\n",
       "    <tr>\n",
       "      <th>1653</th>\n",
       "      <td>1654</td>\n",
       "      <td>아이템A</td>\n",
       "      <td>3000</td>\n",
       "      <td>2019-12-31</td>\n",
       "      <td>5421</td>\n",
       "    </tr>\n",
       "  </tbody>\n",
       "</table>\n",
       "<p>1654 rows × 5 columns</p>\n",
       "</div>"
      ],
      "text/plain": [
       "      payment_id  item  payment   buy_date  user_id\n",
       "0              1  아이템E    20000 2019-12-01       70\n",
       "1              2  아이템B     5000 2019-12-01     1153\n",
       "2              3  아이템A     3000 2019-12-01     1210\n",
       "3              4  아이템A     3000 2019-12-01     1242\n",
       "4              5  아이템E    20000 2019-12-01      975\n",
       "...          ...   ...      ...        ...      ...\n",
       "1649        1650  아이템A     3000 2019-12-31     7474\n",
       "1650        1651  아이템B     5000 2019-12-31     7502\n",
       "1651        1652  아이템E    20000 2019-12-31     7474\n",
       "1652        1653  아이템E    20000 2019-12-31     5414\n",
       "1653        1654  아이템A     3000 2019-12-31     5421\n",
       "\n",
       "[1654 rows x 5 columns]"
      ]
     },
     "execution_count": 4,
     "metadata": {},
     "output_type": "execute_result"
    }
   ],
   "source": [
    "payment"
   ]
  },
  {
   "cell_type": "code",
   "execution_count": 5,
   "id": "6925385e",
   "metadata": {},
   "outputs": [],
   "source": [
    "def split_revenue(\n",
    "    sign_up: pd.DataFrame,\n",
    "    payment: pd.DataFrame,\n",
    "    resiual_rate_color: str = \"lightgreen\",\n",
    "    payment_rate_color: str = \"#ee1f5f\",\n",
    "    arppu_color=\"lightblue\",\n",
    ") -> pd.DataFrame:\n",
    "    \"\"\"\n",
    "    Show Revenue Table\n",
    "    :param sign_up: (pd.DataFrame)\n",
    "                sign_up dataset\n",
    "    :param payment: (pd.DataFrame)\n",
    "                payment dataset\n",
    "    :param resiual_rate_color: (str)\n",
    "                resiual_rate feature bar color\n",
    "    :param payment_rate_color: (str)\n",
    "                payment_rate feature bar color\n",
    "    :param arppu_color: (str)\n",
    "                ARPPU feature bar color\n",
    "    :return: (pd.DataFrame)\n",
    "            revenue dataframe\n",
    "    \"\"\"\n",
    "    try:\n",
    "        sign_up[\"sign_up_month\"] = sign_up[\"sign_up\"].dt.month\n",
    "        sign_up[\"last_login_month\"] = sign_up[\"last_login\"].dt.month\n",
    "\n",
    "    except AttributeError:\n",
    "        sign_up[\"sign_up\"] = pd.to_datetime(sign_up[\"sign_up\"])\n",
    "        sign_up[\"last_login\"] = pd.to_datetime(sign_up[\"last_login\"])\n",
    "        sign_up[\"sign_up_month\"] = sign_up[\"sign_up\"].dt.month\n",
    "        sign_up[\"last_login_month\"] = sign_up[\"last_login\"].dt.month\n",
    "\n",
    "    sign_up_dict = sign_up.groupby(\"user_id\")[\"sign_up\"].first().to_dict()\n",
    "    payment[\"sign_up_month\"] = payment[\"user_id\"].map(sign_up_dict)\n",
    "    payment[\"sign_up_month\"] = payment[\"sign_up_month\"].dt.month\n",
    "\n",
    "    retention = (\n",
    "        payment.groupby(\"user_id\")\n",
    "        .agg(\n",
    "            payment_count=(\"payment\", \"count\"),\n",
    "            sales=(\"payment\", \"sum\"),\n",
    "            sign_up_month=(\"sign_up_month\", \"first\"),\n",
    "        )\n",
    "        .reset_index()\n",
    "    )\n",
    "\n",
    "    retention = (\n",
    "        retention.groupby(\"sign_up_month\")\n",
    "        .agg(buyer=(\"sign_up_month\", \"count\"), sales=(\"sales\", \"sum\"))\n",
    "        .reset_index()\n",
    "    )\n",
    "\n",
    "    retention[\"sign_up_number\"] = (\n",
    "        sign_up.groupby(\"sign_up_month\")[\"user_id\"].count().values\n",
    "    )\n",
    "    retention[\"activate\"] = (\n",
    "        sign_up.groupby([\"sign_up_month\", \"last_login_month\"])[\"user_id\"]\n",
    "        .count()\n",
    "        .unstack()\n",
    "        .iloc[:, -1]\n",
    "        .values\n",
    "    )\n",
    "\n",
    "    retention[\"residual_rate\"] = (\n",
    "        retention[\"activate\"] / retention[\"sign_up_number\"]\n",
    "    ) * 100\n",
    "    retention[\"payment_rate\"] = (retention[\"buyer\"] / retention[\"activate\"]) * 100\n",
    "    retention[\"ARPPU\"] = retention[\"sales\"] / retention[\"buyer\"]\n",
    "\n",
    "    retention = (\n",
    "        retention.style.format(\n",
    "            {\n",
    "                \"residual_rate\": \"{:.0f}%\",\n",
    "                \"payment_rate\": \"{:.0f}%\",\n",
    "                \"ARPPU\": \"{:.0f}\",\n",
    "            }\n",
    "        )\n",
    "        .bar(align=\"mid\", subset=[\"residual_rate\"], color=resiual_rate_color)\n",
    "        .bar(align=\"mid\", subset=[\"payment_rate\"], color=payment_rate_color)\n",
    "        .bar(align=\"mid\", subset=[\"ARPPU\"], color=arppu_color)\n",
    "    )\n",
    "\n",
    "    return retention"
   ]
  },
  {
   "cell_type": "code",
   "execution_count": 8,
   "id": "4f4fdec2",
   "metadata": {
    "scrolled": false
   },
   "outputs": [],
   "source": [
    "retention = split_revenue(sign_up, payment)"
   ]
  },
  {
   "cell_type": "code",
   "execution_count": 22,
   "id": "700df771",
   "metadata": {},
   "outputs": [
    {
     "data": {
      "text/html": [
       "<style type=\"text/css\">\n",
       "#T_a4039_row0_col5 {\n",
       "  width: 10em;\n",
       "  height: 80%;\n",
       "  background: linear-gradient(90deg,lightgreen 13.8%, transparent 13.8%);\n",
       "}\n",
       "#T_a4039_row0_col6 {\n",
       "  width: 10em;\n",
       "  height: 80%;\n",
       "  background: linear-gradient(90deg,#ee1f5f 100.0%, transparent 100.0%);\n",
       "}\n",
       "#T_a4039_row0_col7 {\n",
       "  width: 10em;\n",
       "  height: 80%;\n",
       "  background: linear-gradient(90deg,lightblue 74.5%, transparent 74.5%);\n",
       "}\n",
       "#T_a4039_row1_col5 {\n",
       "  width: 10em;\n",
       "  height: 80%;\n",
       "  background: linear-gradient(90deg,lightgreen 23.1%, transparent 23.1%);\n",
       "}\n",
       "#T_a4039_row1_col6 {\n",
       "  width: 10em;\n",
       "  height: 80%;\n",
       "  background: linear-gradient(90deg,#ee1f5f 82.9%, transparent 82.9%);\n",
       "}\n",
       "#T_a4039_row1_col7 {\n",
       "  width: 10em;\n",
       "  height: 80%;\n",
       "  background: linear-gradient(90deg,lightblue 65.0%, transparent 65.0%);\n",
       "}\n",
       "#T_a4039_row2_col5 {\n",
       "  width: 10em;\n",
       "  height: 80%;\n",
       "  background: linear-gradient(90deg,lightgreen 31.4%, transparent 31.4%);\n",
       "}\n",
       "#T_a4039_row2_col6 {\n",
       "  width: 10em;\n",
       "  height: 80%;\n",
       "  background: linear-gradient(90deg,#ee1f5f 78.7%, transparent 78.7%);\n",
       "}\n",
       "#T_a4039_row2_col7 {\n",
       "  width: 10em;\n",
       "  height: 80%;\n",
       "  background: linear-gradient(90deg,lightblue 73.3%, transparent 73.3%);\n",
       "}\n",
       "#T_a4039_row3_col5 {\n",
       "  width: 10em;\n",
       "  height: 80%;\n",
       "  background: linear-gradient(90deg,lightgreen 36.7%, transparent 36.7%);\n",
       "}\n",
       "#T_a4039_row3_col6 {\n",
       "  width: 10em;\n",
       "  height: 80%;\n",
       "  background: linear-gradient(90deg,#ee1f5f 62.8%, transparent 62.8%);\n",
       "}\n",
       "#T_a4039_row3_col7 {\n",
       "  width: 10em;\n",
       "  height: 80%;\n",
       "  background: linear-gradient(90deg,lightblue 85.1%, transparent 85.1%);\n",
       "}\n",
       "#T_a4039_row4_col5 {\n",
       "  width: 10em;\n",
       "  height: 80%;\n",
       "  background: linear-gradient(90deg,lightgreen 44.9%, transparent 44.9%);\n",
       "}\n",
       "#T_a4039_row4_col6 {\n",
       "  width: 10em;\n",
       "  height: 80%;\n",
       "  background: linear-gradient(90deg,#ee1f5f 57.5%, transparent 57.5%);\n",
       "}\n",
       "#T_a4039_row4_col7 {\n",
       "  width: 10em;\n",
       "  height: 80%;\n",
       "  background: linear-gradient(90deg,lightblue 78.7%, transparent 78.7%);\n",
       "}\n",
       "#T_a4039_row5_col5 {\n",
       "  width: 10em;\n",
       "  height: 80%;\n",
       "  background: linear-gradient(90deg,lightgreen 54.9%, transparent 54.9%);\n",
       "}\n",
       "#T_a4039_row5_col6 {\n",
       "  width: 10em;\n",
       "  height: 80%;\n",
       "  background: linear-gradient(90deg,#ee1f5f 52.7%, transparent 52.7%);\n",
       "}\n",
       "#T_a4039_row5_col7, #T_a4039_row6_col7 {\n",
       "  width: 10em;\n",
       "  height: 80%;\n",
       "  background: linear-gradient(90deg,lightblue 77.4%, transparent 77.4%);\n",
       "}\n",
       "#T_a4039_row6_col5 {\n",
       "  width: 10em;\n",
       "  height: 80%;\n",
       "  background: linear-gradient(90deg,lightgreen 62.2%, transparent 62.2%);\n",
       "}\n",
       "#T_a4039_row6_col6 {\n",
       "  width: 10em;\n",
       "  height: 80%;\n",
       "  background: linear-gradient(90deg,#ee1f5f 53.6%, transparent 53.6%);\n",
       "}\n",
       "#T_a4039_row7_col5 {\n",
       "  width: 10em;\n",
       "  height: 80%;\n",
       "  background: linear-gradient(90deg,lightgreen 65.2%, transparent 65.2%);\n",
       "}\n",
       "#T_a4039_row7_col6 {\n",
       "  width: 10em;\n",
       "  height: 80%;\n",
       "  background: linear-gradient(90deg,#ee1f5f 48.8%, transparent 48.8%);\n",
       "}\n",
       "#T_a4039_row7_col7 {\n",
       "  width: 10em;\n",
       "  height: 80%;\n",
       "  background: linear-gradient(90deg,lightblue 74.2%, transparent 74.2%);\n",
       "}\n",
       "#T_a4039_row8_col5 {\n",
       "  width: 10em;\n",
       "  height: 80%;\n",
       "  background: linear-gradient(90deg,lightgreen 74.8%, transparent 74.8%);\n",
       "}\n",
       "#T_a4039_row8_col6 {\n",
       "  width: 10em;\n",
       "  height: 80%;\n",
       "  background: linear-gradient(90deg,#ee1f5f 49.4%, transparent 49.4%);\n",
       "}\n",
       "#T_a4039_row8_col7 {\n",
       "  width: 10em;\n",
       "  height: 80%;\n",
       "  background: linear-gradient(90deg,lightblue 100.0%, transparent 100.0%);\n",
       "}\n",
       "#T_a4039_row9_col5 {\n",
       "  width: 10em;\n",
       "  height: 80%;\n",
       "  background: linear-gradient(90deg,lightgreen 87.1%, transparent 87.1%);\n",
       "}\n",
       "#T_a4039_row9_col6 {\n",
       "  width: 10em;\n",
       "  height: 80%;\n",
       "  background: linear-gradient(90deg,#ee1f5f 47.1%, transparent 47.1%);\n",
       "}\n",
       "#T_a4039_row9_col7 {\n",
       "  width: 10em;\n",
       "  height: 80%;\n",
       "  background: linear-gradient(90deg,lightblue 85.5%, transparent 85.5%);\n",
       "}\n",
       "#T_a4039_row10_col5 {\n",
       "  width: 10em;\n",
       "  height: 80%;\n",
       "  background: linear-gradient(90deg,lightgreen 93.3%, transparent 93.3%);\n",
       "}\n",
       "#T_a4039_row10_col6 {\n",
       "  width: 10em;\n",
       "  height: 80%;\n",
       "  background: linear-gradient(90deg,#ee1f5f 40.1%, transparent 40.1%);\n",
       "}\n",
       "#T_a4039_row10_col7 {\n",
       "  width: 10em;\n",
       "  height: 80%;\n",
       "  background: linear-gradient(90deg,lightblue 82.3%, transparent 82.3%);\n",
       "}\n",
       "#T_a4039_row11_col5 {\n",
       "  width: 10em;\n",
       "  height: 80%;\n",
       "  background: linear-gradient(90deg,lightgreen 100.0%, transparent 100.0%);\n",
       "}\n",
       "#T_a4039_row11_col6 {\n",
       "  width: 10em;\n",
       "  height: 80%;\n",
       "  background: linear-gradient(90deg,#ee1f5f 40.9%, transparent 40.9%);\n",
       "}\n",
       "#T_a4039_row11_col7 {\n",
       "  width: 10em;\n",
       "  height: 80%;\n",
       "  background: linear-gradient(90deg,lightblue 71.6%, transparent 71.6%);\n",
       "}\n",
       "</style>\n",
       "<table id=\"T_a4039_\">\n",
       "  <thead>\n",
       "    <tr>\n",
       "      <th class=\"blank level0\" >&nbsp;</th>\n",
       "      <th class=\"col_heading level0 col0\" >sign_up_month</th>\n",
       "      <th class=\"col_heading level0 col1\" >buyer</th>\n",
       "      <th class=\"col_heading level0 col2\" >sales</th>\n",
       "      <th class=\"col_heading level0 col3\" >sign_up_number</th>\n",
       "      <th class=\"col_heading level0 col4\" >activate</th>\n",
       "      <th class=\"col_heading level0 col5\" >residual_rate</th>\n",
       "      <th class=\"col_heading level0 col6\" >payment_rate</th>\n",
       "      <th class=\"col_heading level0 col7\" >ARPPU</th>\n",
       "    </tr>\n",
       "  </thead>\n",
       "  <tbody>\n",
       "    <tr>\n",
       "      <th id=\"T_a4039_level0_row0\" class=\"row_heading level0 row0\" >0</th>\n",
       "      <td id=\"T_a4039_row0_col0\" class=\"data row0 col0\" >1</td>\n",
       "      <td id=\"T_a4039_row0_col1\" class=\"data row0 col1\" >25</td>\n",
       "      <td id=\"T_a4039_row0_col2\" class=\"data row0 col2\" >221000</td>\n",
       "      <td id=\"T_a4039_row0_col3\" class=\"data row0 col3\" >428</td>\n",
       "      <td id=\"T_a4039_row0_col4\" class=\"data row0 col4\" >59.000000</td>\n",
       "      <td id=\"T_a4039_row0_col5\" class=\"data row0 col5\" >14%</td>\n",
       "      <td id=\"T_a4039_row0_col6\" class=\"data row0 col6\" >42%</td>\n",
       "      <td id=\"T_a4039_row0_col7\" class=\"data row0 col7\" >8840</td>\n",
       "    </tr>\n",
       "    <tr>\n",
       "      <th id=\"T_a4039_level0_row1\" class=\"row_heading level0 row1\" >1</th>\n",
       "      <td id=\"T_a4039_row1_col0\" class=\"data row1 col0\" >2</td>\n",
       "      <td id=\"T_a4039_row1_col1\" class=\"data row1 col1\" >39</td>\n",
       "      <td id=\"T_a4039_row1_col2\" class=\"data row1 col2\" >301000</td>\n",
       "      <td id=\"T_a4039_row1_col3\" class=\"data row1 col3\" >481</td>\n",
       "      <td id=\"T_a4039_row1_col4\" class=\"data row1 col4\" >111.000000</td>\n",
       "      <td id=\"T_a4039_row1_col5\" class=\"data row1 col5\" >23%</td>\n",
       "      <td id=\"T_a4039_row1_col6\" class=\"data row1 col6\" >35%</td>\n",
       "      <td id=\"T_a4039_row1_col7\" class=\"data row1 col7\" >7718</td>\n",
       "    </tr>\n",
       "    <tr>\n",
       "      <th id=\"T_a4039_level0_row2\" class=\"row_heading level0 row2\" >2</th>\n",
       "      <td id=\"T_a4039_row2_col0\" class=\"data row2 col0\" >3</td>\n",
       "      <td id=\"T_a4039_row2_col1\" class=\"data row2 col1\" >57</td>\n",
       "      <td id=\"T_a4039_row2_col2\" class=\"data row2 col2\" >496000</td>\n",
       "      <td id=\"T_a4039_row2_col3\" class=\"data row2 col3\" >545</td>\n",
       "      <td id=\"T_a4039_row2_col4\" class=\"data row2 col4\" >171.000000</td>\n",
       "      <td id=\"T_a4039_row2_col5\" class=\"data row2 col5\" >31%</td>\n",
       "      <td id=\"T_a4039_row2_col6\" class=\"data row2 col6\" >33%</td>\n",
       "      <td id=\"T_a4039_row2_col7\" class=\"data row2 col7\" >8702</td>\n",
       "    </tr>\n",
       "    <tr>\n",
       "      <th id=\"T_a4039_level0_row3\" class=\"row_heading level0 row3\" >3</th>\n",
       "      <td id=\"T_a4039_row3_col0\" class=\"data row3 col0\" >4</td>\n",
       "      <td id=\"T_a4039_row3_col1\" class=\"data row3 col1\" >49</td>\n",
       "      <td id=\"T_a4039_row3_col2\" class=\"data row3 col2\" >495000</td>\n",
       "      <td id=\"T_a4039_row3_col3\" class=\"data row3 col3\" >501</td>\n",
       "      <td id=\"T_a4039_row3_col4\" class=\"data row3 col4\" >184.000000</td>\n",
       "      <td id=\"T_a4039_row3_col5\" class=\"data row3 col5\" >37%</td>\n",
       "      <td id=\"T_a4039_row3_col6\" class=\"data row3 col6\" >27%</td>\n",
       "      <td id=\"T_a4039_row3_col7\" class=\"data row3 col7\" >10102</td>\n",
       "    </tr>\n",
       "    <tr>\n",
       "      <th id=\"T_a4039_level0_row4\" class=\"row_heading level0 row4\" >4</th>\n",
       "      <td id=\"T_a4039_row4_col0\" class=\"data row4 col0\" >5</td>\n",
       "      <td id=\"T_a4039_row4_col1\" class=\"data row4 col1\" >58</td>\n",
       "      <td id=\"T_a4039_row4_col2\" class=\"data row4 col2\" >542000</td>\n",
       "      <td id=\"T_a4039_row4_col3\" class=\"data row4 col3\" >530</td>\n",
       "      <td id=\"T_a4039_row4_col4\" class=\"data row4 col4\" >238.000000</td>\n",
       "      <td id=\"T_a4039_row4_col5\" class=\"data row4 col5\" >45%</td>\n",
       "      <td id=\"T_a4039_row4_col6\" class=\"data row4 col6\" >24%</td>\n",
       "      <td id=\"T_a4039_row4_col7\" class=\"data row4 col7\" >9345</td>\n",
       "    </tr>\n",
       "    <tr>\n",
       "      <th id=\"T_a4039_level0_row5\" class=\"row_heading level0 row5\" >5</th>\n",
       "      <td id=\"T_a4039_row5_col0\" class=\"data row5 col0\" >6</td>\n",
       "      <td id=\"T_a4039_row5_col1\" class=\"data row5 col1\" >65</td>\n",
       "      <td id=\"T_a4039_row5_col2\" class=\"data row5 col2\" >597000</td>\n",
       "      <td id=\"T_a4039_row5_col3\" class=\"data row5 col3\" >530</td>\n",
       "      <td id=\"T_a4039_row5_col4\" class=\"data row5 col4\" >291.000000</td>\n",
       "      <td id=\"T_a4039_row5_col5\" class=\"data row5 col5\" >55%</td>\n",
       "      <td id=\"T_a4039_row5_col6\" class=\"data row5 col6\" >22%</td>\n",
       "      <td id=\"T_a4039_row5_col7\" class=\"data row5 col7\" >9185</td>\n",
       "    </tr>\n",
       "    <tr>\n",
       "      <th id=\"T_a4039_level0_row6\" class=\"row_heading level0 row6\" >6</th>\n",
       "      <td id=\"T_a4039_row6_col0\" class=\"data row6 col0\" >7</td>\n",
       "      <td id=\"T_a4039_row6_col1\" class=\"data row6 col1\" >70</td>\n",
       "      <td id=\"T_a4039_row6_col2\" class=\"data row6 col2\" >643000</td>\n",
       "      <td id=\"T_a4039_row6_col3\" class=\"data row6 col3\" >495</td>\n",
       "      <td id=\"T_a4039_row6_col4\" class=\"data row6 col4\" >308.000000</td>\n",
       "      <td id=\"T_a4039_row6_col5\" class=\"data row6 col5\" >62%</td>\n",
       "      <td id=\"T_a4039_row6_col6\" class=\"data row6 col6\" >23%</td>\n",
       "      <td id=\"T_a4039_row6_col7\" class=\"data row6 col7\" >9186</td>\n",
       "    </tr>\n",
       "    <tr>\n",
       "      <th id=\"T_a4039_level0_row7\" class=\"row_heading level0 row7\" >7</th>\n",
       "      <td id=\"T_a4039_row7_col0\" class=\"data row7 col0\" >8</td>\n",
       "      <td id=\"T_a4039_row7_col1\" class=\"data row7 col1\" >72</td>\n",
       "      <td id=\"T_a4039_row7_col2\" class=\"data row7 col2\" >634000</td>\n",
       "      <td id=\"T_a4039_row7_col3\" class=\"data row7 col3\" >534</td>\n",
       "      <td id=\"T_a4039_row7_col4\" class=\"data row7 col4\" >348.000000</td>\n",
       "      <td id=\"T_a4039_row7_col5\" class=\"data row7 col5\" >65%</td>\n",
       "      <td id=\"T_a4039_row7_col6\" class=\"data row7 col6\" >21%</td>\n",
       "      <td id=\"T_a4039_row7_col7\" class=\"data row7 col7\" >8806</td>\n",
       "    </tr>\n",
       "    <tr>\n",
       "      <th id=\"T_a4039_level0_row8\" class=\"row_heading level0 row8\" >8</th>\n",
       "      <td id=\"T_a4039_row8_col0\" class=\"data row8 col0\" >9</td>\n",
       "      <td id=\"T_a4039_row8_col1\" class=\"data row8 col1\" >99</td>\n",
       "      <td id=\"T_a4039_row8_col2\" class=\"data row8 col2\" >1175000</td>\n",
       "      <td id=\"T_a4039_row8_col3\" class=\"data row8 col3\" >632</td>\n",
       "      <td id=\"T_a4039_row8_col4\" class=\"data row8 col4\" >473.000000</td>\n",
       "      <td id=\"T_a4039_row8_col5\" class=\"data row8 col5\" >75%</td>\n",
       "      <td id=\"T_a4039_row8_col6\" class=\"data row8 col6\" >21%</td>\n",
       "      <td id=\"T_a4039_row8_col7\" class=\"data row8 col7\" >11869</td>\n",
       "    </tr>\n",
       "    <tr>\n",
       "      <th id=\"T_a4039_level0_row9\" class=\"row_heading level0 row9\" >9</th>\n",
       "      <td id=\"T_a4039_row9_col0\" class=\"data row9 col0\" >10</td>\n",
       "      <td id=\"T_a4039_row9_col1\" class=\"data row9 col1\" >128</td>\n",
       "      <td id=\"T_a4039_row9_col2\" class=\"data row9 col2\" >1299000</td>\n",
       "      <td id=\"T_a4039_row9_col3\" class=\"data row9 col3\" >737</td>\n",
       "      <td id=\"T_a4039_row9_col4\" class=\"data row9 col4\" >642.000000</td>\n",
       "      <td id=\"T_a4039_row9_col5\" class=\"data row9 col5\" >87%</td>\n",
       "      <td id=\"T_a4039_row9_col6\" class=\"data row9 col6\" >20%</td>\n",
       "      <td id=\"T_a4039_row9_col7\" class=\"data row9 col7\" >10148</td>\n",
       "    </tr>\n",
       "    <tr>\n",
       "      <th id=\"T_a4039_level0_row10\" class=\"row_heading level0 row10\" >10</th>\n",
       "      <td id=\"T_a4039_row10_col0\" class=\"data row10 col0\" >11</td>\n",
       "      <td id=\"T_a4039_row10_col1\" class=\"data row10 col1\" >361</td>\n",
       "      <td id=\"T_a4039_row10_col2\" class=\"data row10 col2\" >3528000</td>\n",
       "      <td id=\"T_a4039_row10_col3\" class=\"data row10 col3\" >2274</td>\n",
       "      <td id=\"T_a4039_row10_col4\" class=\"data row10 col4\" >2122.000000</td>\n",
       "      <td id=\"T_a4039_row10_col5\" class=\"data row10 col5\" >93%</td>\n",
       "      <td id=\"T_a4039_row10_col6\" class=\"data row10 col6\" >17%</td>\n",
       "      <td id=\"T_a4039_row10_col7\" class=\"data row10 col7\" >9773</td>\n",
       "    </tr>\n",
       "    <tr>\n",
       "      <th id=\"T_a4039_level0_row11\" class=\"row_heading level0 row11\" >11</th>\n",
       "      <td id=\"T_a4039_row11_col0\" class=\"data row11 col0\" >12</td>\n",
       "      <td id=\"T_a4039_row11_col1\" class=\"data row11 col1\" >483</td>\n",
       "      <td id=\"T_a4039_row11_col2\" class=\"data row11 col2\" >4105000</td>\n",
       "      <td id=\"T_a4039_row11_col3\" class=\"data row11 col3\" >2784</td>\n",
       "      <td id=\"T_a4039_row11_col4\" class=\"data row11 col4\" >2784.000000</td>\n",
       "      <td id=\"T_a4039_row11_col5\" class=\"data row11 col5\" >100%</td>\n",
       "      <td id=\"T_a4039_row11_col6\" class=\"data row11 col6\" >17%</td>\n",
       "      <td id=\"T_a4039_row11_col7\" class=\"data row11 col7\" >8499</td>\n",
       "    </tr>\n",
       "  </tbody>\n",
       "</table>\n"
      ],
      "text/plain": [
       "<pandas.io.formats.style.Styler at 0x7f3c01074970>"
      ]
     },
     "execution_count": 22,
     "metadata": {},
     "output_type": "execute_result"
    }
   ],
   "source": [
    "retention"
   ]
  },
  {
   "cell_type": "code",
   "execution_count": null,
   "id": "0939a2bd",
   "metadata": {},
   "outputs": [],
   "source": [
    "def mau_plot(activate: Union[pd.Series, np.ndarray, List[float]]) -> Figure:\n",
    "    fig = go.Figure()\n",
    "    fig.add_trace(\n",
    "        go.Scatter(\n",
    "            x=[\n",
    "                \"January\",\n",
    "                \"February\",\n",
    "                \"March\",\n",
    "                \"April\",\n",
    "                \"May\",\n",
    "                \"June\",\n",
    "                \"July\",\n",
    "                \"August\",\n",
    "                \"September\",\n",
    "                \"October\",\n",
    "                \"November\",\n",
    "                \"December\",\n",
    "            ],\n",
    "            y=activate,\n",
    "            mode=\"lines+markers\",  # Line Plot에 마커찍기\n",
    "            name=\"lines+markers\",\n",
    "        )\n",
    "    )\n",
    "    fig.update_xaxes(tickangle=30)\n",
    "    \n",
    "    return fig\n"
   ]
  },
  {
   "cell_type": "code",
   "execution_count": 21,
   "id": "aca346ea",
   "metadata": {},
   "outputs": [
    {
     "data": {
      "application/vnd.plotly.v1+json": {
       "config": {
        "linkText": "Export to plot.ly",
        "plotlyServerURL": "https://plot.ly",
        "showLink": false
       },
       "data": [
        {
         "mode": "lines+markers",
         "name": "lines+markers",
         "type": "scatter",
         "x": [
          "January",
          "February",
          "March",
          "April",
          "May",
          "June",
          "July",
          "August",
          "September",
          "October",
          "November",
          "December"
         ],
         "y": [
          59,
          111,
          171,
          184,
          238,
          291,
          308,
          348,
          473,
          642,
          2122,
          2784
         ]
        }
       ],
       "layout": {
        "template": {
         "data": {
          "bar": [
           {
            "error_x": {
             "color": "#2a3f5f"
            },
            "error_y": {
             "color": "#2a3f5f"
            },
            "marker": {
             "line": {
              "color": "#E5ECF6",
              "width": 0.5
             },
             "pattern": {
              "fillmode": "overlay",
              "size": 10,
              "solidity": 0.2
             }
            },
            "type": "bar"
           }
          ],
          "barpolar": [
           {
            "marker": {
             "line": {
              "color": "#E5ECF6",
              "width": 0.5
             },
             "pattern": {
              "fillmode": "overlay",
              "size": 10,
              "solidity": 0.2
             }
            },
            "type": "barpolar"
           }
          ],
          "carpet": [
           {
            "aaxis": {
             "endlinecolor": "#2a3f5f",
             "gridcolor": "white",
             "linecolor": "white",
             "minorgridcolor": "white",
             "startlinecolor": "#2a3f5f"
            },
            "baxis": {
             "endlinecolor": "#2a3f5f",
             "gridcolor": "white",
             "linecolor": "white",
             "minorgridcolor": "white",
             "startlinecolor": "#2a3f5f"
            },
            "type": "carpet"
           }
          ],
          "choropleth": [
           {
            "colorbar": {
             "outlinewidth": 0,
             "ticks": ""
            },
            "type": "choropleth"
           }
          ],
          "contour": [
           {
            "colorbar": {
             "outlinewidth": 0,
             "ticks": ""
            },
            "colorscale": [
             [
              0,
              "#0d0887"
             ],
             [
              0.1111111111111111,
              "#46039f"
             ],
             [
              0.2222222222222222,
              "#7201a8"
             ],
             [
              0.3333333333333333,
              "#9c179e"
             ],
             [
              0.4444444444444444,
              "#bd3786"
             ],
             [
              0.5555555555555556,
              "#d8576b"
             ],
             [
              0.6666666666666666,
              "#ed7953"
             ],
             [
              0.7777777777777778,
              "#fb9f3a"
             ],
             [
              0.8888888888888888,
              "#fdca26"
             ],
             [
              1,
              "#f0f921"
             ]
            ],
            "type": "contour"
           }
          ],
          "contourcarpet": [
           {
            "colorbar": {
             "outlinewidth": 0,
             "ticks": ""
            },
            "type": "contourcarpet"
           }
          ],
          "heatmap": [
           {
            "colorbar": {
             "outlinewidth": 0,
             "ticks": ""
            },
            "colorscale": [
             [
              0,
              "#0d0887"
             ],
             [
              0.1111111111111111,
              "#46039f"
             ],
             [
              0.2222222222222222,
              "#7201a8"
             ],
             [
              0.3333333333333333,
              "#9c179e"
             ],
             [
              0.4444444444444444,
              "#bd3786"
             ],
             [
              0.5555555555555556,
              "#d8576b"
             ],
             [
              0.6666666666666666,
              "#ed7953"
             ],
             [
              0.7777777777777778,
              "#fb9f3a"
             ],
             [
              0.8888888888888888,
              "#fdca26"
             ],
             [
              1,
              "#f0f921"
             ]
            ],
            "type": "heatmap"
           }
          ],
          "heatmapgl": [
           {
            "colorbar": {
             "outlinewidth": 0,
             "ticks": ""
            },
            "colorscale": [
             [
              0,
              "#0d0887"
             ],
             [
              0.1111111111111111,
              "#46039f"
             ],
             [
              0.2222222222222222,
              "#7201a8"
             ],
             [
              0.3333333333333333,
              "#9c179e"
             ],
             [
              0.4444444444444444,
              "#bd3786"
             ],
             [
              0.5555555555555556,
              "#d8576b"
             ],
             [
              0.6666666666666666,
              "#ed7953"
             ],
             [
              0.7777777777777778,
              "#fb9f3a"
             ],
             [
              0.8888888888888888,
              "#fdca26"
             ],
             [
              1,
              "#f0f921"
             ]
            ],
            "type": "heatmapgl"
           }
          ],
          "histogram": [
           {
            "marker": {
             "pattern": {
              "fillmode": "overlay",
              "size": 10,
              "solidity": 0.2
             }
            },
            "type": "histogram"
           }
          ],
          "histogram2d": [
           {
            "colorbar": {
             "outlinewidth": 0,
             "ticks": ""
            },
            "colorscale": [
             [
              0,
              "#0d0887"
             ],
             [
              0.1111111111111111,
              "#46039f"
             ],
             [
              0.2222222222222222,
              "#7201a8"
             ],
             [
              0.3333333333333333,
              "#9c179e"
             ],
             [
              0.4444444444444444,
              "#bd3786"
             ],
             [
              0.5555555555555556,
              "#d8576b"
             ],
             [
              0.6666666666666666,
              "#ed7953"
             ],
             [
              0.7777777777777778,
              "#fb9f3a"
             ],
             [
              0.8888888888888888,
              "#fdca26"
             ],
             [
              1,
              "#f0f921"
             ]
            ],
            "type": "histogram2d"
           }
          ],
          "histogram2dcontour": [
           {
            "colorbar": {
             "outlinewidth": 0,
             "ticks": ""
            },
            "colorscale": [
             [
              0,
              "#0d0887"
             ],
             [
              0.1111111111111111,
              "#46039f"
             ],
             [
              0.2222222222222222,
              "#7201a8"
             ],
             [
              0.3333333333333333,
              "#9c179e"
             ],
             [
              0.4444444444444444,
              "#bd3786"
             ],
             [
              0.5555555555555556,
              "#d8576b"
             ],
             [
              0.6666666666666666,
              "#ed7953"
             ],
             [
              0.7777777777777778,
              "#fb9f3a"
             ],
             [
              0.8888888888888888,
              "#fdca26"
             ],
             [
              1,
              "#f0f921"
             ]
            ],
            "type": "histogram2dcontour"
           }
          ],
          "mesh3d": [
           {
            "colorbar": {
             "outlinewidth": 0,
             "ticks": ""
            },
            "type": "mesh3d"
           }
          ],
          "parcoords": [
           {
            "line": {
             "colorbar": {
              "outlinewidth": 0,
              "ticks": ""
             }
            },
            "type": "parcoords"
           }
          ],
          "pie": [
           {
            "automargin": true,
            "type": "pie"
           }
          ],
          "scatter": [
           {
            "marker": {
             "colorbar": {
              "outlinewidth": 0,
              "ticks": ""
             }
            },
            "type": "scatter"
           }
          ],
          "scatter3d": [
           {
            "line": {
             "colorbar": {
              "outlinewidth": 0,
              "ticks": ""
             }
            },
            "marker": {
             "colorbar": {
              "outlinewidth": 0,
              "ticks": ""
             }
            },
            "type": "scatter3d"
           }
          ],
          "scattercarpet": [
           {
            "marker": {
             "colorbar": {
              "outlinewidth": 0,
              "ticks": ""
             }
            },
            "type": "scattercarpet"
           }
          ],
          "scattergeo": [
           {
            "marker": {
             "colorbar": {
              "outlinewidth": 0,
              "ticks": ""
             }
            },
            "type": "scattergeo"
           }
          ],
          "scattergl": [
           {
            "marker": {
             "colorbar": {
              "outlinewidth": 0,
              "ticks": ""
             }
            },
            "type": "scattergl"
           }
          ],
          "scattermapbox": [
           {
            "marker": {
             "colorbar": {
              "outlinewidth": 0,
              "ticks": ""
             }
            },
            "type": "scattermapbox"
           }
          ],
          "scatterpolar": [
           {
            "marker": {
             "colorbar": {
              "outlinewidth": 0,
              "ticks": ""
             }
            },
            "type": "scatterpolar"
           }
          ],
          "scatterpolargl": [
           {
            "marker": {
             "colorbar": {
              "outlinewidth": 0,
              "ticks": ""
             }
            },
            "type": "scatterpolargl"
           }
          ],
          "scatterternary": [
           {
            "marker": {
             "colorbar": {
              "outlinewidth": 0,
              "ticks": ""
             }
            },
            "type": "scatterternary"
           }
          ],
          "surface": [
           {
            "colorbar": {
             "outlinewidth": 0,
             "ticks": ""
            },
            "colorscale": [
             [
              0,
              "#0d0887"
             ],
             [
              0.1111111111111111,
              "#46039f"
             ],
             [
              0.2222222222222222,
              "#7201a8"
             ],
             [
              0.3333333333333333,
              "#9c179e"
             ],
             [
              0.4444444444444444,
              "#bd3786"
             ],
             [
              0.5555555555555556,
              "#d8576b"
             ],
             [
              0.6666666666666666,
              "#ed7953"
             ],
             [
              0.7777777777777778,
              "#fb9f3a"
             ],
             [
              0.8888888888888888,
              "#fdca26"
             ],
             [
              1,
              "#f0f921"
             ]
            ],
            "type": "surface"
           }
          ],
          "table": [
           {
            "cells": {
             "fill": {
              "color": "#EBF0F8"
             },
             "line": {
              "color": "white"
             }
            },
            "header": {
             "fill": {
              "color": "#C8D4E3"
             },
             "line": {
              "color": "white"
             }
            },
            "type": "table"
           }
          ]
         },
         "layout": {
          "annotationdefaults": {
           "arrowcolor": "#2a3f5f",
           "arrowhead": 0,
           "arrowwidth": 1
          },
          "autotypenumbers": "strict",
          "coloraxis": {
           "colorbar": {
            "outlinewidth": 0,
            "ticks": ""
           }
          },
          "colorscale": {
           "diverging": [
            [
             0,
             "#8e0152"
            ],
            [
             0.1,
             "#c51b7d"
            ],
            [
             0.2,
             "#de77ae"
            ],
            [
             0.3,
             "#f1b6da"
            ],
            [
             0.4,
             "#fde0ef"
            ],
            [
             0.5,
             "#f7f7f7"
            ],
            [
             0.6,
             "#e6f5d0"
            ],
            [
             0.7,
             "#b8e186"
            ],
            [
             0.8,
             "#7fbc41"
            ],
            [
             0.9,
             "#4d9221"
            ],
            [
             1,
             "#276419"
            ]
           ],
           "sequential": [
            [
             0,
             "#0d0887"
            ],
            [
             0.1111111111111111,
             "#46039f"
            ],
            [
             0.2222222222222222,
             "#7201a8"
            ],
            [
             0.3333333333333333,
             "#9c179e"
            ],
            [
             0.4444444444444444,
             "#bd3786"
            ],
            [
             0.5555555555555556,
             "#d8576b"
            ],
            [
             0.6666666666666666,
             "#ed7953"
            ],
            [
             0.7777777777777778,
             "#fb9f3a"
            ],
            [
             0.8888888888888888,
             "#fdca26"
            ],
            [
             1,
             "#f0f921"
            ]
           ],
           "sequentialminus": [
            [
             0,
             "#0d0887"
            ],
            [
             0.1111111111111111,
             "#46039f"
            ],
            [
             0.2222222222222222,
             "#7201a8"
            ],
            [
             0.3333333333333333,
             "#9c179e"
            ],
            [
             0.4444444444444444,
             "#bd3786"
            ],
            [
             0.5555555555555556,
             "#d8576b"
            ],
            [
             0.6666666666666666,
             "#ed7953"
            ],
            [
             0.7777777777777778,
             "#fb9f3a"
            ],
            [
             0.8888888888888888,
             "#fdca26"
            ],
            [
             1,
             "#f0f921"
            ]
           ]
          },
          "colorway": [
           "#636efa",
           "#EF553B",
           "#00cc96",
           "#ab63fa",
           "#FFA15A",
           "#19d3f3",
           "#FF6692",
           "#B6E880",
           "#FF97FF",
           "#FECB52"
          ],
          "font": {
           "color": "#2a3f5f"
          },
          "geo": {
           "bgcolor": "white",
           "lakecolor": "white",
           "landcolor": "#E5ECF6",
           "showlakes": true,
           "showland": true,
           "subunitcolor": "white"
          },
          "hoverlabel": {
           "align": "left"
          },
          "hovermode": "closest",
          "mapbox": {
           "style": "light"
          },
          "paper_bgcolor": "white",
          "plot_bgcolor": "#E5ECF6",
          "polar": {
           "angularaxis": {
            "gridcolor": "white",
            "linecolor": "white",
            "ticks": ""
           },
           "bgcolor": "#E5ECF6",
           "radialaxis": {
            "gridcolor": "white",
            "linecolor": "white",
            "ticks": ""
           }
          },
          "scene": {
           "xaxis": {
            "backgroundcolor": "#E5ECF6",
            "gridcolor": "white",
            "gridwidth": 2,
            "linecolor": "white",
            "showbackground": true,
            "ticks": "",
            "zerolinecolor": "white"
           },
           "yaxis": {
            "backgroundcolor": "#E5ECF6",
            "gridcolor": "white",
            "gridwidth": 2,
            "linecolor": "white",
            "showbackground": true,
            "ticks": "",
            "zerolinecolor": "white"
           },
           "zaxis": {
            "backgroundcolor": "#E5ECF6",
            "gridcolor": "white",
            "gridwidth": 2,
            "linecolor": "white",
            "showbackground": true,
            "ticks": "",
            "zerolinecolor": "white"
           }
          },
          "shapedefaults": {
           "line": {
            "color": "#2a3f5f"
           }
          },
          "ternary": {
           "aaxis": {
            "gridcolor": "white",
            "linecolor": "white",
            "ticks": ""
           },
           "baxis": {
            "gridcolor": "white",
            "linecolor": "white",
            "ticks": ""
           },
           "bgcolor": "#E5ECF6",
           "caxis": {
            "gridcolor": "white",
            "linecolor": "white",
            "ticks": ""
           }
          },
          "title": {
           "x": 0.05
          },
          "xaxis": {
           "automargin": true,
           "gridcolor": "white",
           "linecolor": "white",
           "ticks": "",
           "title": {
            "standoff": 15
           },
           "zerolinecolor": "white",
           "zerolinewidth": 2
          },
          "yaxis": {
           "automargin": true,
           "gridcolor": "white",
           "linecolor": "white",
           "ticks": "",
           "title": {
            "standoff": 15
           },
           "zerolinecolor": "white",
           "zerolinewidth": 2
          }
         }
        },
        "xaxis": {
         "tickangle": 30
        }
       }
      },
      "text/html": [
       "<div>                            <div id=\"c67dcfbe-d60d-4493-9973-7272900fe75b\" class=\"plotly-graph-div\" style=\"height:525px; width:100%;\"></div>            <script type=\"text/javascript\">                require([\"plotly\"], function(Plotly) {                    window.PLOTLYENV=window.PLOTLYENV || {};                                    if (document.getElementById(\"c67dcfbe-d60d-4493-9973-7272900fe75b\")) {                    Plotly.newPlot(                        \"c67dcfbe-d60d-4493-9973-7272900fe75b\",                        [{\"mode\":\"lines+markers\",\"name\":\"lines+markers\",\"x\":[\"January\",\"February\",\"March\",\"April\",\"May\",\"June\",\"July\",\"August\",\"September\",\"October\",\"November\",\"December\"],\"y\":[59.0,111.0,171.0,184.0,238.0,291.0,308.0,348.0,473.0,642.0,2122.0,2784.0],\"type\":\"scatter\"}],                        {\"template\":{\"data\":{\"barpolar\":[{\"marker\":{\"line\":{\"color\":\"#E5ECF6\",\"width\":0.5},\"pattern\":{\"fillmode\":\"overlay\",\"size\":10,\"solidity\":0.2}},\"type\":\"barpolar\"}],\"bar\":[{\"error_x\":{\"color\":\"#2a3f5f\"},\"error_y\":{\"color\":\"#2a3f5f\"},\"marker\":{\"line\":{\"color\":\"#E5ECF6\",\"width\":0.5},\"pattern\":{\"fillmode\":\"overlay\",\"size\":10,\"solidity\":0.2}},\"type\":\"bar\"}],\"carpet\":[{\"aaxis\":{\"endlinecolor\":\"#2a3f5f\",\"gridcolor\":\"white\",\"linecolor\":\"white\",\"minorgridcolor\":\"white\",\"startlinecolor\":\"#2a3f5f\"},\"baxis\":{\"endlinecolor\":\"#2a3f5f\",\"gridcolor\":\"white\",\"linecolor\":\"white\",\"minorgridcolor\":\"white\",\"startlinecolor\":\"#2a3f5f\"},\"type\":\"carpet\"}],\"choropleth\":[{\"colorbar\":{\"outlinewidth\":0,\"ticks\":\"\"},\"type\":\"choropleth\"}],\"contourcarpet\":[{\"colorbar\":{\"outlinewidth\":0,\"ticks\":\"\"},\"type\":\"contourcarpet\"}],\"contour\":[{\"colorbar\":{\"outlinewidth\":0,\"ticks\":\"\"},\"colorscale\":[[0.0,\"#0d0887\"],[0.1111111111111111,\"#46039f\"],[0.2222222222222222,\"#7201a8\"],[0.3333333333333333,\"#9c179e\"],[0.4444444444444444,\"#bd3786\"],[0.5555555555555556,\"#d8576b\"],[0.6666666666666666,\"#ed7953\"],[0.7777777777777778,\"#fb9f3a\"],[0.8888888888888888,\"#fdca26\"],[1.0,\"#f0f921\"]],\"type\":\"contour\"}],\"heatmapgl\":[{\"colorbar\":{\"outlinewidth\":0,\"ticks\":\"\"},\"colorscale\":[[0.0,\"#0d0887\"],[0.1111111111111111,\"#46039f\"],[0.2222222222222222,\"#7201a8\"],[0.3333333333333333,\"#9c179e\"],[0.4444444444444444,\"#bd3786\"],[0.5555555555555556,\"#d8576b\"],[0.6666666666666666,\"#ed7953\"],[0.7777777777777778,\"#fb9f3a\"],[0.8888888888888888,\"#fdca26\"],[1.0,\"#f0f921\"]],\"type\":\"heatmapgl\"}],\"heatmap\":[{\"colorbar\":{\"outlinewidth\":0,\"ticks\":\"\"},\"colorscale\":[[0.0,\"#0d0887\"],[0.1111111111111111,\"#46039f\"],[0.2222222222222222,\"#7201a8\"],[0.3333333333333333,\"#9c179e\"],[0.4444444444444444,\"#bd3786\"],[0.5555555555555556,\"#d8576b\"],[0.6666666666666666,\"#ed7953\"],[0.7777777777777778,\"#fb9f3a\"],[0.8888888888888888,\"#fdca26\"],[1.0,\"#f0f921\"]],\"type\":\"heatmap\"}],\"histogram2dcontour\":[{\"colorbar\":{\"outlinewidth\":0,\"ticks\":\"\"},\"colorscale\":[[0.0,\"#0d0887\"],[0.1111111111111111,\"#46039f\"],[0.2222222222222222,\"#7201a8\"],[0.3333333333333333,\"#9c179e\"],[0.4444444444444444,\"#bd3786\"],[0.5555555555555556,\"#d8576b\"],[0.6666666666666666,\"#ed7953\"],[0.7777777777777778,\"#fb9f3a\"],[0.8888888888888888,\"#fdca26\"],[1.0,\"#f0f921\"]],\"type\":\"histogram2dcontour\"}],\"histogram2d\":[{\"colorbar\":{\"outlinewidth\":0,\"ticks\":\"\"},\"colorscale\":[[0.0,\"#0d0887\"],[0.1111111111111111,\"#46039f\"],[0.2222222222222222,\"#7201a8\"],[0.3333333333333333,\"#9c179e\"],[0.4444444444444444,\"#bd3786\"],[0.5555555555555556,\"#d8576b\"],[0.6666666666666666,\"#ed7953\"],[0.7777777777777778,\"#fb9f3a\"],[0.8888888888888888,\"#fdca26\"],[1.0,\"#f0f921\"]],\"type\":\"histogram2d\"}],\"histogram\":[{\"marker\":{\"pattern\":{\"fillmode\":\"overlay\",\"size\":10,\"solidity\":0.2}},\"type\":\"histogram\"}],\"mesh3d\":[{\"colorbar\":{\"outlinewidth\":0,\"ticks\":\"\"},\"type\":\"mesh3d\"}],\"parcoords\":[{\"line\":{\"colorbar\":{\"outlinewidth\":0,\"ticks\":\"\"}},\"type\":\"parcoords\"}],\"pie\":[{\"automargin\":true,\"type\":\"pie\"}],\"scatter3d\":[{\"line\":{\"colorbar\":{\"outlinewidth\":0,\"ticks\":\"\"}},\"marker\":{\"colorbar\":{\"outlinewidth\":0,\"ticks\":\"\"}},\"type\":\"scatter3d\"}],\"scattercarpet\":[{\"marker\":{\"colorbar\":{\"outlinewidth\":0,\"ticks\":\"\"}},\"type\":\"scattercarpet\"}],\"scattergeo\":[{\"marker\":{\"colorbar\":{\"outlinewidth\":0,\"ticks\":\"\"}},\"type\":\"scattergeo\"}],\"scattergl\":[{\"marker\":{\"colorbar\":{\"outlinewidth\":0,\"ticks\":\"\"}},\"type\":\"scattergl\"}],\"scattermapbox\":[{\"marker\":{\"colorbar\":{\"outlinewidth\":0,\"ticks\":\"\"}},\"type\":\"scattermapbox\"}],\"scatterpolargl\":[{\"marker\":{\"colorbar\":{\"outlinewidth\":0,\"ticks\":\"\"}},\"type\":\"scatterpolargl\"}],\"scatterpolar\":[{\"marker\":{\"colorbar\":{\"outlinewidth\":0,\"ticks\":\"\"}},\"type\":\"scatterpolar\"}],\"scatter\":[{\"marker\":{\"colorbar\":{\"outlinewidth\":0,\"ticks\":\"\"}},\"type\":\"scatter\"}],\"scatterternary\":[{\"marker\":{\"colorbar\":{\"outlinewidth\":0,\"ticks\":\"\"}},\"type\":\"scatterternary\"}],\"surface\":[{\"colorbar\":{\"outlinewidth\":0,\"ticks\":\"\"},\"colorscale\":[[0.0,\"#0d0887\"],[0.1111111111111111,\"#46039f\"],[0.2222222222222222,\"#7201a8\"],[0.3333333333333333,\"#9c179e\"],[0.4444444444444444,\"#bd3786\"],[0.5555555555555556,\"#d8576b\"],[0.6666666666666666,\"#ed7953\"],[0.7777777777777778,\"#fb9f3a\"],[0.8888888888888888,\"#fdca26\"],[1.0,\"#f0f921\"]],\"type\":\"surface\"}],\"table\":[{\"cells\":{\"fill\":{\"color\":\"#EBF0F8\"},\"line\":{\"color\":\"white\"}},\"header\":{\"fill\":{\"color\":\"#C8D4E3\"},\"line\":{\"color\":\"white\"}},\"type\":\"table\"}]},\"layout\":{\"annotationdefaults\":{\"arrowcolor\":\"#2a3f5f\",\"arrowhead\":0,\"arrowwidth\":1},\"autotypenumbers\":\"strict\",\"coloraxis\":{\"colorbar\":{\"outlinewidth\":0,\"ticks\":\"\"}},\"colorscale\":{\"diverging\":[[0,\"#8e0152\"],[0.1,\"#c51b7d\"],[0.2,\"#de77ae\"],[0.3,\"#f1b6da\"],[0.4,\"#fde0ef\"],[0.5,\"#f7f7f7\"],[0.6,\"#e6f5d0\"],[0.7,\"#b8e186\"],[0.8,\"#7fbc41\"],[0.9,\"#4d9221\"],[1,\"#276419\"]],\"sequential\":[[0.0,\"#0d0887\"],[0.1111111111111111,\"#46039f\"],[0.2222222222222222,\"#7201a8\"],[0.3333333333333333,\"#9c179e\"],[0.4444444444444444,\"#bd3786\"],[0.5555555555555556,\"#d8576b\"],[0.6666666666666666,\"#ed7953\"],[0.7777777777777778,\"#fb9f3a\"],[0.8888888888888888,\"#fdca26\"],[1.0,\"#f0f921\"]],\"sequentialminus\":[[0.0,\"#0d0887\"],[0.1111111111111111,\"#46039f\"],[0.2222222222222222,\"#7201a8\"],[0.3333333333333333,\"#9c179e\"],[0.4444444444444444,\"#bd3786\"],[0.5555555555555556,\"#d8576b\"],[0.6666666666666666,\"#ed7953\"],[0.7777777777777778,\"#fb9f3a\"],[0.8888888888888888,\"#fdca26\"],[1.0,\"#f0f921\"]]},\"colorway\":[\"#636efa\",\"#EF553B\",\"#00cc96\",\"#ab63fa\",\"#FFA15A\",\"#19d3f3\",\"#FF6692\",\"#B6E880\",\"#FF97FF\",\"#FECB52\"],\"font\":{\"color\":\"#2a3f5f\"},\"geo\":{\"bgcolor\":\"white\",\"lakecolor\":\"white\",\"landcolor\":\"#E5ECF6\",\"showlakes\":true,\"showland\":true,\"subunitcolor\":\"white\"},\"hoverlabel\":{\"align\":\"left\"},\"hovermode\":\"closest\",\"mapbox\":{\"style\":\"light\"},\"paper_bgcolor\":\"white\",\"plot_bgcolor\":\"#E5ECF6\",\"polar\":{\"angularaxis\":{\"gridcolor\":\"white\",\"linecolor\":\"white\",\"ticks\":\"\"},\"bgcolor\":\"#E5ECF6\",\"radialaxis\":{\"gridcolor\":\"white\",\"linecolor\":\"white\",\"ticks\":\"\"}},\"scene\":{\"xaxis\":{\"backgroundcolor\":\"#E5ECF6\",\"gridcolor\":\"white\",\"gridwidth\":2,\"linecolor\":\"white\",\"showbackground\":true,\"ticks\":\"\",\"zerolinecolor\":\"white\"},\"yaxis\":{\"backgroundcolor\":\"#E5ECF6\",\"gridcolor\":\"white\",\"gridwidth\":2,\"linecolor\":\"white\",\"showbackground\":true,\"ticks\":\"\",\"zerolinecolor\":\"white\"},\"zaxis\":{\"backgroundcolor\":\"#E5ECF6\",\"gridcolor\":\"white\",\"gridwidth\":2,\"linecolor\":\"white\",\"showbackground\":true,\"ticks\":\"\",\"zerolinecolor\":\"white\"}},\"shapedefaults\":{\"line\":{\"color\":\"#2a3f5f\"}},\"ternary\":{\"aaxis\":{\"gridcolor\":\"white\",\"linecolor\":\"white\",\"ticks\":\"\"},\"baxis\":{\"gridcolor\":\"white\",\"linecolor\":\"white\",\"ticks\":\"\"},\"bgcolor\":\"#E5ECF6\",\"caxis\":{\"gridcolor\":\"white\",\"linecolor\":\"white\",\"ticks\":\"\"}},\"title\":{\"x\":0.05},\"xaxis\":{\"automargin\":true,\"gridcolor\":\"white\",\"linecolor\":\"white\",\"ticks\":\"\",\"title\":{\"standoff\":15},\"zerolinecolor\":\"white\",\"zerolinewidth\":2},\"yaxis\":{\"automargin\":true,\"gridcolor\":\"white\",\"linecolor\":\"white\",\"ticks\":\"\",\"title\":{\"standoff\":15},\"zerolinecolor\":\"white\",\"zerolinewidth\":2}}},\"xaxis\":{\"tickangle\":30}},                        {\"responsive\": true}                    ).then(function(){\n",
       "                            \n",
       "var gd = document.getElementById('c67dcfbe-d60d-4493-9973-7272900fe75b');\n",
       "var x = new MutationObserver(function (mutations, observer) {{\n",
       "        var display = window.getComputedStyle(gd).display;\n",
       "        if (!display || display === 'none') {{\n",
       "            console.log([gd, 'removed!']);\n",
       "            Plotly.purge(gd);\n",
       "            observer.disconnect();\n",
       "        }}\n",
       "}});\n",
       "\n",
       "// Listen for the removal of the full notebook cells\n",
       "var notebookContainer = gd.closest('#notebook-container');\n",
       "if (notebookContainer) {{\n",
       "    x.observe(notebookContainer, {childList: true});\n",
       "}}\n",
       "\n",
       "// Listen for the clearing of the current output cell\n",
       "var outputEl = gd.closest('.output');\n",
       "if (outputEl) {{\n",
       "    x.observe(outputEl, {childList: true});\n",
       "}}\n",
       "\n",
       "                        })                };                });            </script>        </div>"
      ]
     },
     "metadata": {},
     "output_type": "display_data"
    }
   ],
   "source": [
    "from plotly.offline import iplot\n",
    "import plotly.graph_objects as go\n",
    "from plotly.graph_objects import Figure\n",
    "# Create traces\n",
    "fig = go.Figure()\n",
    "fig.add_trace(\n",
    "    go.Scatter(\n",
    "        x=[\n",
    "            \"January\",\n",
    "            \"February\",\n",
    "            \"March\",\n",
    "            \"April\",\n",
    "            \"May\",\n",
    "            \"June\",\n",
    "            \"July\",\n",
    "            \"August\",\n",
    "            \"September\",\n",
    "            \"October\",\n",
    "            \"November\",\n",
    "            \"December\",\n",
    "        ],\n",
    "        y=retention.data[\"activate\"],\n",
    "        mode=\"lines+markers\",  # Line Plot에 마커찍기\n",
    "        name=\"lines+markers\",\n",
    "    )\n",
    ")\n",
    "fig.update_xaxes(tickangle=30)\n",
    "iplot(fig)"
   ]
  },
  {
   "cell_type": "code",
   "execution_count": null,
   "id": "06a0b6f1",
   "metadata": {},
   "outputs": [],
   "source": []
  }
 ],
 "metadata": {
  "kernelspec": {
   "display_name": "Python 3 (ipykernel)",
   "language": "python",
   "name": "python3"
  },
  "language_info": {
   "codemirror_mode": {
    "name": "ipython",
    "version": 3
   },
   "file_extension": ".py",
   "mimetype": "text/x-python",
   "name": "python",
   "nbconvert_exporter": "python",
   "pygments_lexer": "ipython3",
   "version": "3.8.12"
  }
 },
 "nbformat": 4,
 "nbformat_minor": 5
}
